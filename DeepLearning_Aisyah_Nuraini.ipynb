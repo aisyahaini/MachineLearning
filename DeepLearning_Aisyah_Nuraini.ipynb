{
  "cells": [
    {
      "cell_type": "markdown",
      "metadata": {
        "id": "view-in-github",
        "colab_type": "text"
      },
      "source": [
        "<a href=\"https://colab.research.google.com/github/aisyahaini/MachineLearning/blob/main/DeepLearning_Aisyah_Nuraini.ipynb\" target=\"_parent\"><img src=\"https://colab.research.google.com/assets/colab-badge.svg\" alt=\"Open In Colab\"/></a>"
      ]
    },
    {
      "cell_type": "code",
      "execution_count": null,
      "metadata": {
        "id": "Pm2fqlTVo-Gk"
      },
      "outputs": [],
      "source": [
        "import os\n",
        "import numpy as np\n",
        "from PIL import Image\n",
        "import tensorflow as tf\n",
        "from tensorflow.keras.preprocessing.image import ImageDataGenerator\n",
        "from sklearn.model_selection import train_test_split"
      ]
    },
    {
      "cell_type": "markdown",
      "metadata": {
        "id": "wmTWL4kUpGkr"
      },
      "source": [
        "path ke dataset"
      ]
    },
    {
      "cell_type": "code",
      "source": [
        "from google.colab import drive\n",
        "drive.flush_and_unmount()"
      ],
      "metadata": {
        "id": "CgXhSVQdymaN",
        "colab": {
          "base_uri": "https://localhost:8080/"
        },
        "outputId": "566c2625-9ffb-4500-c8aa-777833ded3f4"
      },
      "execution_count": null,
      "outputs": [
        {
          "output_type": "stream",
          "name": "stdout",
          "text": [
            "Drive not mounted, so nothing to flush and unmount.\n"
          ]
        }
      ]
    },
    {
      "cell_type": "code",
      "source": [
        "from google.colab import drive\n",
        "drive.mount('/content/drive')\n"
      ],
      "metadata": {
        "colab": {
          "base_uri": "https://localhost:8080/"
        },
        "id": "-SeZogvZypcW",
        "outputId": "0a52c2a4-9742-4ec4-ec85-4e9ae52c1f5f"
      },
      "execution_count": null,
      "outputs": [
        {
          "output_type": "stream",
          "name": "stdout",
          "text": [
            "Mounted at /content/drive\n"
          ]
        }
      ]
    },
    {
      "cell_type": "code",
      "source": [
        "dataset_path = '/content/drive/MyDrive/SEMESTER 4/Machine Learning/dataset sepatu'\n"
      ],
      "metadata": {
        "id": "9F1_Iic9yyRN"
      },
      "execution_count": null,
      "outputs": []
    },
    {
      "cell_type": "code",
      "execution_count": null,
      "metadata": {
        "colab": {
          "base_uri": "https://localhost:8080/"
        },
        "id": "JihkExG4p6sq",
        "outputId": "c253ba4a-8e28-4a80-9165-a386532bf647"
      },
      "outputs": [
        {
          "output_type": "stream",
          "name": "stdout",
          "text": [
            "x_train shape: (96, 28, 28, 1)\n",
            "x_test shape: (24, 28, 28, 1)\n",
            "y_train shape: (96, 11)\n",
            "y_test shape: (24, 11)\n"
          ]
        }
      ],
      "source": [
        "# Fungsi untuk memproses gambar\n",
        "def process_image(image_path):\n",
        "    img = Image.open(image_path)\n",
        "    img = img.resize((28, 28))\n",
        "    img = img.convert('L')\n",
        "    img_array = np.array(img)\n",
        "    img_array = img_array / 255.0\n",
        "    return img_array\n",
        "\n",
        "# Membaca semua gambar dan label dari subfolder\n",
        "def load_dataset(dataset_path):\n",
        "    images = []\n",
        "    labels = []\n",
        "    label_names = sorted(os.listdir(dataset_path))\n",
        "\n",
        "    for label_index, label_name in enumerate(label_names):\n",
        "        label_path = os.path.join(dataset_path, label_name)\n",
        "        image_files = os.listdir(label_path)\n",
        "\n",
        "        for image_file in image_files:\n",
        "            image_path = os.path.join(label_path, image_file)\n",
        "            img_array = process_image(image_path)\n",
        "            images.append(img_array)\n",
        "            labels.append(label_index)\n",
        "\n",
        "    return np.array(images), np.array(labels), label_names\n",
        "\n",
        "images, labels, label_names = load_dataset(dataset_path)\n",
        "\n",
        "# Menambahkan dimensi untuk channel (karena grayscale)\n",
        "images = np.expand_dims(images, -1)\n",
        "\n",
        "# Membagi dataset menjadi training dan testing\n",
        "x_train, x_test, y_train, y_test = train_test_split(images, labels, test_size=0.2, random_state=42)\n",
        "\n",
        "# Mengubah label menjadi one-hot encoding\n",
        "num_classes = len(label_names)\n",
        "y_train = tf.keras.utils.to_categorical(y_train, num_classes)\n",
        "y_test = tf.keras.utils.to_categorical(y_test, num_classes)\n",
        "\n",
        "print(f\"x_train shape: {x_train.shape}\")\n",
        "print(f\"x_test shape: {x_test.shape}\")\n",
        "print(f\"y_train shape: {y_train.shape}\")\n",
        "print(f\"y_test shape: {y_test.shape}\")"
      ]
    },
    {
      "cell_type": "markdown",
      "metadata": {
        "id": "NJdqM50rrlLW"
      },
      "source": [
        "model CNN"
      ]
    },
    {
      "cell_type": "code",
      "execution_count": null,
      "metadata": {
        "colab": {
          "base_uri": "https://localhost:8080/"
        },
        "id": "OUMN3FYNro9e",
        "outputId": "288b27eb-1bae-4569-ae91-4dd90ffa6536"
      },
      "outputs": [
        {
          "output_type": "stream",
          "name": "stdout",
          "text": [
            "Model: \"sequential\"\n",
            "_________________________________________________________________\n",
            " Layer (type)                Output Shape              Param #   \n",
            "=================================================================\n",
            " conv2d (Conv2D)             (None, 26, 26, 32)        320       \n",
            "                                                                 \n",
            " max_pooling2d (MaxPooling2  (None, 13, 13, 32)        0         \n",
            " D)                                                              \n",
            "                                                                 \n",
            " conv2d_1 (Conv2D)           (None, 11, 11, 64)        18496     \n",
            "                                                                 \n",
            " max_pooling2d_1 (MaxPoolin  (None, 5, 5, 64)          0         \n",
            " g2D)                                                            \n",
            "                                                                 \n",
            " flatten (Flatten)           (None, 1600)              0         \n",
            "                                                                 \n",
            " dense (Dense)               (None, 128)               204928    \n",
            "                                                                 \n",
            " dense_1 (Dense)             (None, 11)                1419      \n",
            "                                                                 \n",
            "=================================================================\n",
            "Total params: 225163 (879.54 KB)\n",
            "Trainable params: 225163 (879.54 KB)\n",
            "Non-trainable params: 0 (0.00 Byte)\n",
            "_________________________________________________________________\n"
          ]
        }
      ],
      "source": [
        "def create_cnn_model(input_shape, num_classes):\n",
        "    model = tf.keras.models.Sequential([\n",
        "        tf.keras.layers.Conv2D(32, (3, 3), activation='relu', input_shape=input_shape),\n",
        "        tf.keras.layers.MaxPooling2D((2, 2)),\n",
        "        tf.keras.layers.Conv2D(64, (3, 3), activation='relu'),\n",
        "        tf.keras.layers.MaxPooling2D((2, 2)),\n",
        "        tf.keras.layers.Flatten(),\n",
        "        tf.keras.layers.Dense(128, activation='relu'),\n",
        "        tf.keras.layers.Dense(num_classes, activation='softmax')\n",
        "    ])\n",
        "    model.compile(optimizer='adam', loss='categorical_crossentropy', metrics=['accuracy'])\n",
        "    return model\n",
        "\n",
        "cnn_model = create_cnn_model(x_train.shape[1:], num_classes)\n",
        "cnn_model.summary()"
      ]
    },
    {
      "cell_type": "markdown",
      "metadata": {
        "id": "alK-Uta6rtAW"
      },
      "source": [
        "Model RNN"
      ]
    },
    {
      "cell_type": "code",
      "execution_count": null,
      "metadata": {
        "colab": {
          "base_uri": "https://localhost:8080/"
        },
        "id": "f9CcX7C8rwt1",
        "outputId": "5297c927-9ead-463c-f6a8-ac7b213e23ba"
      },
      "outputs": [
        {
          "output_type": "stream",
          "name": "stdout",
          "text": [
            "Model: \"sequential_1\"\n",
            "_________________________________________________________________\n",
            " Layer (type)                Output Shape              Param #   \n",
            "=================================================================\n",
            " reshape (Reshape)           (None, 28, 28)            0         \n",
            "                                                                 \n",
            " simple_rnn (SimpleRNN)      (None, 128)               20096     \n",
            "                                                                 \n",
            " dense_2 (Dense)             (None, 128)               16512     \n",
            "                                                                 \n",
            " dense_3 (Dense)             (None, 11)                1419      \n",
            "                                                                 \n",
            "=================================================================\n",
            "Total params: 38027 (148.54 KB)\n",
            "Trainable params: 38027 (148.54 KB)\n",
            "Non-trainable params: 0 (0.00 Byte)\n",
            "_________________________________________________________________\n"
          ]
        }
      ],
      "source": [
        "def create_rnn_model(input_shape, num_classes):\n",
        "    model = tf.keras.models.Sequential([\n",
        "        tf.keras.layers.Reshape((input_shape[0], input_shape[1]), input_shape=input_shape),\n",
        "        tf.keras.layers.SimpleRNN(128, activation='relu'),\n",
        "        tf.keras.layers.Dense(128, activation='relu'),\n",
        "        tf.keras.layers.Dense(num_classes, activation='softmax')\n",
        "    ])\n",
        "    model.compile(optimizer='adam', loss='categorical_crossentropy', metrics=['accuracy'])\n",
        "    return model\n",
        "\n",
        "rnn_model = create_rnn_model(x_train.shape[1:], num_classes)\n",
        "rnn_model.summary()"
      ]
    },
    {
      "cell_type": "markdown",
      "metadata": {
        "id": "B98vQHZMr00O"
      },
      "source": [
        "Model LSTM"
      ]
    },
    {
      "cell_type": "code",
      "execution_count": null,
      "metadata": {
        "colab": {
          "base_uri": "https://localhost:8080/"
        },
        "id": "93OHspuXr3Id",
        "outputId": "6acb31df-b44e-4b25-fb01-c5798658653f"
      },
      "outputs": [
        {
          "output_type": "stream",
          "name": "stdout",
          "text": [
            "Model: \"sequential_2\"\n",
            "_________________________________________________________________\n",
            " Layer (type)                Output Shape              Param #   \n",
            "=================================================================\n",
            " reshape_1 (Reshape)         (None, 28, 28)            0         \n",
            "                                                                 \n",
            " lstm (LSTM)                 (None, 128)               80384     \n",
            "                                                                 \n",
            " dense_4 (Dense)             (None, 128)               16512     \n",
            "                                                                 \n",
            " dense_5 (Dense)             (None, 11)                1419      \n",
            "                                                                 \n",
            "=================================================================\n",
            "Total params: 98315 (384.04 KB)\n",
            "Trainable params: 98315 (384.04 KB)\n",
            "Non-trainable params: 0 (0.00 Byte)\n",
            "_________________________________________________________________\n"
          ]
        }
      ],
      "source": [
        "def create_lstm_model(input_shape, num_classes):\n",
        "    model = tf.keras.models.Sequential([\n",
        "        tf.keras.layers.Reshape((input_shape[0], input_shape[1]), input_shape=input_shape),\n",
        "        tf.keras.layers.LSTM(128, activation='relu'),\n",
        "        tf.keras.layers.Dense(128, activation='relu'),\n",
        "        tf.keras.layers.Dense(num_classes, activation='softmax')\n",
        "    ])\n",
        "    model.compile(optimizer='adam', loss='categorical_crossentropy', metrics=['accuracy'])\n",
        "    return model\n",
        "\n",
        "lstm_model = create_lstm_model(x_train.shape[1:], num_classes)\n",
        "lstm_model.summary()"
      ]
    },
    {
      "cell_type": "markdown",
      "metadata": {
        "id": "Azc43OV-r9XD"
      },
      "source": [
        "Melatih model CNN"
      ]
    },
    {
      "cell_type": "code",
      "execution_count": null,
      "metadata": {
        "colab": {
          "base_uri": "https://localhost:8080/"
        },
        "id": "9xCPNREor_Z_",
        "outputId": "9e2c3b62-9414-4c7c-a2f7-1f3e39032aa8"
      },
      "outputs": [
        {
          "output_type": "stream",
          "name": "stdout",
          "text": [
            "Epoch 1/10\n",
            "3/3 [==============================] - 1s 152ms/step - loss: 2.4031 - accuracy: 0.1146 - val_loss: 2.3759 - val_accuracy: 0.2917\n",
            "Epoch 2/10\n",
            "3/3 [==============================] - 0s 44ms/step - loss: 2.3445 - accuracy: 0.2083 - val_loss: 2.3490 - val_accuracy: 0.1667\n",
            "Epoch 3/10\n",
            "3/3 [==============================] - 0s 39ms/step - loss: 2.2956 - accuracy: 0.1875 - val_loss: 2.3034 - val_accuracy: 0.2083\n",
            "Epoch 4/10\n",
            "3/3 [==============================] - 0s 46ms/step - loss: 2.2182 - accuracy: 0.2188 - val_loss: 2.2549 - val_accuracy: 0.2083\n",
            "Epoch 5/10\n",
            "3/3 [==============================] - 0s 44ms/step - loss: 2.1246 - accuracy: 0.2708 - val_loss: 2.1600 - val_accuracy: 0.2500\n",
            "Epoch 6/10\n",
            "3/3 [==============================] - 0s 48ms/step - loss: 1.9910 - accuracy: 0.4062 - val_loss: 2.0322 - val_accuracy: 0.5000\n",
            "Epoch 7/10\n",
            "3/3 [==============================] - 0s 58ms/step - loss: 1.8253 - accuracy: 0.5104 - val_loss: 1.8551 - val_accuracy: 0.4583\n",
            "Epoch 8/10\n",
            "3/3 [==============================] - 0s 43ms/step - loss: 1.6517 - accuracy: 0.5208 - val_loss: 1.7439 - val_accuracy: 0.5000\n",
            "Epoch 9/10\n",
            "3/3 [==============================] - 0s 40ms/step - loss: 1.4406 - accuracy: 0.5625 - val_loss: 1.5850 - val_accuracy: 0.5417\n",
            "Epoch 10/10\n",
            "3/3 [==============================] - 0s 48ms/step - loss: 1.2588 - accuracy: 0.6771 - val_loss: 1.5387 - val_accuracy: 0.4167\n",
            "1/1 [==============================] - 0s 29ms/step - loss: 1.5387 - accuracy: 0.4167\n",
            "CNN Accuracy: 0.4166666567325592\n"
          ]
        }
      ],
      "source": [
        "cnn_history = cnn_model.fit(x_train, y_train, epochs=10, validation_data=(x_test, y_test))\n",
        "cnn_accuracy = cnn_model.evaluate(x_test, y_test)[1]\n",
        "print(f\"CNN Accuracy: {cnn_accuracy}\")"
      ]
    },
    {
      "cell_type": "markdown",
      "metadata": {
        "id": "4pXdAMnCsFB5"
      },
      "source": [
        "Melatih model RNN"
      ]
    },
    {
      "cell_type": "code",
      "execution_count": null,
      "metadata": {
        "colab": {
          "base_uri": "https://localhost:8080/"
        },
        "id": "F10Ol-p8sJKq",
        "outputId": "ee0979a4-ddb8-4db0-a6a2-8e05396f4143"
      },
      "outputs": [
        {
          "output_type": "stream",
          "name": "stdout",
          "text": [
            "Epoch 1/10\n",
            "3/3 [==============================] - 2s 245ms/step - loss: 2.3932 - accuracy: 0.0938 - val_loss: 2.3808 - val_accuracy: 0.1667\n",
            "Epoch 2/10\n",
            "3/3 [==============================] - 0s 46ms/step - loss: 2.3354 - accuracy: 0.1458 - val_loss: 2.3455 - val_accuracy: 0.1667\n",
            "Epoch 3/10\n",
            "3/3 [==============================] - 0s 37ms/step - loss: 2.3181 - accuracy: 0.1562 - val_loss: 2.3258 - val_accuracy: 0.1667\n",
            "Epoch 4/10\n",
            "3/3 [==============================] - 0s 42ms/step - loss: 2.2855 - accuracy: 0.1562 - val_loss: 2.3275 - val_accuracy: 0.1667\n",
            "Epoch 5/10\n",
            "3/3 [==============================] - 0s 35ms/step - loss: 2.2559 - accuracy: 0.2292 - val_loss: 2.3181 - val_accuracy: 0.2083\n",
            "Epoch 6/10\n",
            "3/3 [==============================] - 0s 36ms/step - loss: 2.2187 - accuracy: 0.2396 - val_loss: 2.2822 - val_accuracy: 0.1667\n",
            "Epoch 7/10\n",
            "3/3 [==============================] - 0s 40ms/step - loss: 2.1739 - accuracy: 0.2708 - val_loss: 2.2797 - val_accuracy: 0.2083\n",
            "Epoch 8/10\n",
            "3/3 [==============================] - 0s 50ms/step - loss: 2.1164 - accuracy: 0.2708 - val_loss: 2.2330 - val_accuracy: 0.2083\n",
            "Epoch 9/10\n",
            "3/3 [==============================] - 0s 38ms/step - loss: 2.0523 - accuracy: 0.2708 - val_loss: 2.1976 - val_accuracy: 0.2083\n",
            "Epoch 10/10\n",
            "3/3 [==============================] - 0s 34ms/step - loss: 1.9885 - accuracy: 0.3125 - val_loss: 2.1348 - val_accuracy: 0.2500\n",
            "1/1 [==============================] - 0s 47ms/step - loss: 2.1348 - accuracy: 0.2500\n",
            "RNN Accuracy: 0.25\n"
          ]
        }
      ],
      "source": [
        "rnn_history = rnn_model.fit(x_train, y_train, epochs=10, validation_data=(x_test, y_test))\n",
        "rnn_accuracy = rnn_model.evaluate(x_test, y_test)[1]\n",
        "print(f\"RNN Accuracy: {rnn_accuracy}\")"
      ]
    },
    {
      "cell_type": "markdown",
      "metadata": {
        "id": "NoPHjxU0sPNl"
      },
      "source": [
        "Melatih model LSTM"
      ]
    },
    {
      "cell_type": "code",
      "execution_count": null,
      "metadata": {
        "colab": {
          "base_uri": "https://localhost:8080/"
        },
        "id": "m-QlqltEsSMX",
        "outputId": "fb0dfbe3-bc5a-4cc2-b425-da2b87709b15"
      },
      "outputs": [
        {
          "output_type": "stream",
          "name": "stdout",
          "text": [
            "Epoch 1/10\n",
            "3/3 [==============================] - 2s 191ms/step - loss: 2.4166 - accuracy: 0.0729 - val_loss: 2.3646 - val_accuracy: 0.1667\n",
            "Epoch 2/10\n",
            "3/3 [==============================] - 0s 56ms/step - loss: 2.3651 - accuracy: 0.1458 - val_loss: 2.3589 - val_accuracy: 0.1667\n",
            "Epoch 3/10\n",
            "3/3 [==============================] - 0s 56ms/step - loss: 2.3467 - accuracy: 0.1458 - val_loss: 2.3660 - val_accuracy: 0.1667\n",
            "Epoch 4/10\n",
            "3/3 [==============================] - 0s 57ms/step - loss: 2.3330 - accuracy: 0.1458 - val_loss: 2.3860 - val_accuracy: 0.1667\n",
            "Epoch 5/10\n",
            "3/3 [==============================] - 0s 53ms/step - loss: 2.3052 - accuracy: 0.1979 - val_loss: 2.3843 - val_accuracy: 0.1667\n",
            "Epoch 6/10\n",
            "3/3 [==============================] - 0s 52ms/step - loss: 2.2804 - accuracy: 0.1979 - val_loss: 2.3627 - val_accuracy: 0.1667\n",
            "Epoch 7/10\n",
            "3/3 [==============================] - 0s 59ms/step - loss: 2.2143 - accuracy: 0.2083 - val_loss: 2.3928 - val_accuracy: 0.1667\n",
            "Epoch 8/10\n",
            "3/3 [==============================] - 0s 49ms/step - loss: 2.1216 - accuracy: 0.2292 - val_loss: 2.2889 - val_accuracy: 0.2083\n",
            "Epoch 9/10\n",
            "3/3 [==============================] - 0s 49ms/step - loss: 2.0698 - accuracy: 0.2708 - val_loss: 2.2387 - val_accuracy: 0.2083\n",
            "Epoch 10/10\n",
            "3/3 [==============================] - 0s 52ms/step - loss: 2.1256 - accuracy: 0.2396 - val_loss: 2.3015 - val_accuracy: 0.1667\n",
            "1/1 [==============================] - 0s 37ms/step - loss: 2.3015 - accuracy: 0.1667\n",
            "LSTM Accuracy: 0.1666666716337204\n"
          ]
        }
      ],
      "source": [
        "lstm_history = lstm_model.fit(x_train, y_train, epochs=10, validation_data=(x_test, y_test))\n",
        "lstm_accuracy = lstm_model.evaluate(x_test, y_test)[1]\n",
        "print(f\"LSTM Accuracy: {lstm_accuracy}\")"
      ]
    },
    {
      "cell_type": "markdown",
      "metadata": {
        "id": "BURob02OsYYz"
      },
      "source": [
        "Membandingkan Akurasi CNN, RNN, LSTM"
      ]
    },
    {
      "cell_type": "code",
      "execution_count": null,
      "metadata": {
        "colab": {
          "base_uri": "https://localhost:8080/"
        },
        "id": "0UUvcdJYsdiL",
        "outputId": "6af5fc87-c26a-4de1-f2a6-76490c0b93a2"
      },
      "outputs": [
        {
          "output_type": "stream",
          "name": "stdout",
          "text": [
            "CNN Accuracy: 0.4166666567325592\n",
            "RNN Accuracy: 0.25\n",
            "LSTM Accuracy: 0.1666666716337204\n"
          ]
        }
      ],
      "source": [
        "print(f\"CNN Accuracy: {cnn_accuracy}\")\n",
        "print(f\"RNN Accuracy: {rnn_accuracy}\")\n",
        "print(f\"LSTM Accuracy: {lstm_accuracy}\")"
      ]
    },
    {
      "cell_type": "markdown",
      "metadata": {
        "id": "ULDCYLBjwv8X"
      },
      "source": [
        "data augmentation"
      ]
    },
    {
      "cell_type": "code",
      "execution_count": null,
      "metadata": {
        "id": "bVwfEZfUwyg4"
      },
      "outputs": [],
      "source": [
        "datagen = ImageDataGenerator(\n",
        "    rotation_range=10,\n",
        "    width_shift_range=0.001,\n",
        "    height_shift_range=0.001,\n",
        "    shear_range=0.001,\n",
        "    zoom_range=0.001,\n",
        "    horizontal_flip=True,\n",
        "    vertical_flip=True,\n",
        "    fill_mode='nearest'\n",
        ")"
      ]
    },
    {
      "cell_type": "markdown",
      "metadata": {
        "id": "IPnX25ktw5HO"
      },
      "source": [
        "Mengubah Arsitektur Model"
      ]
    },
    {
      "cell_type": "code",
      "execution_count": null,
      "metadata": {
        "id": "NvnLkljXw7qY"
      },
      "outputs": [],
      "source": [
        "#Model CNN yang Diperbaiki\n",
        "def create_cnn_model(input_shape, num_classes):\n",
        "    model = tf.keras.models.Sequential([\n",
        "        tf.keras.layers.Conv2D(32, (3, 3), activation='relu', input_shape=input_shape),\n",
        "        tf.keras.layers.MaxPooling2D((2, 2)),\n",
        "        tf.keras.layers.Conv2D(64, (3, 3), activation='relu'),\n",
        "        tf.keras.layers.MaxPooling2D((2, 2)),\n",
        "        tf.keras.layers.Conv2D(128, (3, 3), activation='relu'),\n",
        "        tf.keras.layers.MaxPooling2D((2, 2)),\n",
        "        tf.keras.layers.Conv2D(256, (3, 3), activation='relu'),\n",
        "        tf.keras.layers.MaxPooling2D((2, 2)),\n",
        "        tf.keras.layers.Flatten(),\n",
        "        tf.keras.layers.Dense(512, activation='relu'),\n",
        "        tf.keras.layers.Dropout(0.5),\n",
        "        tf.keras.layers.Dense(num_classes, activation='softmax')\n",
        "    ])\n",
        "    model.compile(optimizer='adam', loss='categorical_crossentropy', metrics=['accuracy'])\n",
        "    return model\n"
      ]
    },
    {
      "cell_type": "markdown",
      "metadata": {
        "id": "u1cqiEW6xFkr"
      },
      "source": [
        "Menggunakan Callbacks"
      ]
    },
    {
      "cell_type": "code",
      "execution_count": null,
      "metadata": {
        "colab": {
          "base_uri": "https://localhost:8080/"
        },
        "id": "oN9FGm2IxGL8",
        "outputId": "40b5081a-5938-4394-93b7-8cd24b847506"
      },
      "outputs": [
        {
          "output_type": "stream",
          "name": "stdout",
          "text": [
            "Epoch 1/50\n",
            "3/3 [==============================] - 1s 68ms/step - loss: 1.6328 - accuracy: 0.4271 - val_loss: 1.3577 - val_accuracy: 0.5000 - lr: 0.0010\n",
            "Epoch 2/50\n",
            "3/3 [==============================] - 0s 40ms/step - loss: 1.5042 - accuracy: 0.4583 - val_loss: 1.4700 - val_accuracy: 0.4583 - lr: 0.0010\n",
            "Epoch 3/50\n",
            "3/3 [==============================] - 0s 44ms/step - loss: 1.5751 - accuracy: 0.4583 - val_loss: 1.3629 - val_accuracy: 0.5000 - lr: 0.0010\n",
            "Epoch 4/50\n",
            "3/3 [==============================] - 0s 54ms/step - loss: 1.5195 - accuracy: 0.4583 - val_loss: 1.2458 - val_accuracy: 0.5417 - lr: 0.0010\n",
            "Epoch 5/50\n",
            "3/3 [==============================] - 0s 48ms/step - loss: 1.4065 - accuracy: 0.4583 - val_loss: 1.1944 - val_accuracy: 0.5417 - lr: 0.0010\n",
            "Epoch 6/50\n",
            "3/3 [==============================] - 0s 39ms/step - loss: 1.2235 - accuracy: 0.5729 - val_loss: 1.1229 - val_accuracy: 0.5417 - lr: 0.0010\n",
            "Epoch 7/50\n",
            "3/3 [==============================] - 0s 38ms/step - loss: 1.2623 - accuracy: 0.5729 - val_loss: 1.1665 - val_accuracy: 0.5417 - lr: 0.0010\n",
            "Epoch 8/50\n",
            "3/3 [==============================] - 0s 45ms/step - loss: 1.1804 - accuracy: 0.5729 - val_loss: 1.2575 - val_accuracy: 0.5000 - lr: 0.0010\n",
            "Epoch 9/50\n",
            "3/3 [==============================] - 0s 40ms/step - loss: 1.1231 - accuracy: 0.5729 - val_loss: 1.0938 - val_accuracy: 0.5417 - lr: 0.0010\n",
            "Epoch 10/50\n",
            "3/3 [==============================] - 0s 44ms/step - loss: 1.1122 - accuracy: 0.5729 - val_loss: 1.1468 - val_accuracy: 0.5833 - lr: 0.0010\n",
            "Epoch 11/50\n",
            "3/3 [==============================] - 0s 46ms/step - loss: 1.0995 - accuracy: 0.6042 - val_loss: 1.1942 - val_accuracy: 0.5417 - lr: 0.0010\n",
            "Epoch 12/50\n",
            "3/3 [==============================] - 0s 43ms/step - loss: 1.0906 - accuracy: 0.6354 - val_loss: 1.0522 - val_accuracy: 0.6250 - lr: 0.0010\n",
            "Epoch 13/50\n",
            "3/3 [==============================] - 0s 39ms/step - loss: 1.1013 - accuracy: 0.6146 - val_loss: 1.0971 - val_accuracy: 0.5833 - lr: 0.0010\n",
            "Epoch 14/50\n",
            "3/3 [==============================] - 0s 47ms/step - loss: 1.1523 - accuracy: 0.5625 - val_loss: 1.2081 - val_accuracy: 0.5000 - lr: 0.0010\n",
            "Epoch 15/50\n",
            "3/3 [==============================] - 0s 65ms/step - loss: 0.9544 - accuracy: 0.6458 - val_loss: 0.9560 - val_accuracy: 0.6667 - lr: 0.0010\n",
            "Epoch 16/50\n",
            "3/3 [==============================] - 0s 82ms/step - loss: 1.0282 - accuracy: 0.6146 - val_loss: 1.1178 - val_accuracy: 0.6250 - lr: 0.0010\n",
            "Epoch 17/50\n",
            "3/3 [==============================] - 0s 80ms/step - loss: 0.9730 - accuracy: 0.6562 - val_loss: 1.2211 - val_accuracy: 0.5000 - lr: 0.0010\n",
            "Epoch 18/50\n",
            "3/3 [==============================] - 0s 71ms/step - loss: 0.9045 - accuracy: 0.6979 - val_loss: 1.0431 - val_accuracy: 0.5833 - lr: 0.0010\n",
            "Epoch 19/50\n",
            "3/3 [==============================] - 0s 103ms/step - loss: 0.8729 - accuracy: 0.6562 - val_loss: 1.2357 - val_accuracy: 0.4583 - lr: 0.0010\n",
            "Epoch 20/50\n",
            "3/3 [==============================] - 0s 82ms/step - loss: 0.9273 - accuracy: 0.6771 - val_loss: 1.0561 - val_accuracy: 0.5833 - lr: 0.0010\n"
          ]
        }
      ],
      "source": [
        "from tensorflow.keras.callbacks import EarlyStopping, ReduceLROnPlateau\n",
        "\n",
        "early_stopping = EarlyStopping(monitor='val_loss', patience=5, restore_best_weights=True)\n",
        "reduce_lr = ReduceLROnPlateau(monitor='val_loss', factor=0.2, patience=3, min_lr=0.001)\n",
        "\n",
        "history = cnn_model.fit(\n",
        "    datagen.flow(x_train, y_train, batch_size=32),\n",
        "    validation_data=(x_test, y_test),\n",
        "    epochs=50,\n",
        "    callbacks=[early_stopping, reduce_lr]\n",
        ")"
      ]
    },
    {
      "cell_type": "markdown",
      "metadata": {
        "id": "6JzosxsIxSAs"
      },
      "source": [
        "Evaluasi Model CNN"
      ]
    },
    {
      "cell_type": "code",
      "execution_count": null,
      "metadata": {
        "colab": {
          "base_uri": "https://localhost:8080/"
        },
        "id": "R4eW6ZEWxVXj",
        "outputId": "d920c8cf-f305-42c3-8286-38943db3385e"
      },
      "outputs": [
        {
          "output_type": "stream",
          "name": "stdout",
          "text": [
            "1/1 [==============================] - 0s 28ms/step - loss: 0.9560 - accuracy: 0.6667\n",
            "CNN Accuracy: 0.6666666865348816\n"
          ]
        }
      ],
      "source": [
        "cnn_accuracy = cnn_model.evaluate(x_test, y_test)[1]\n",
        "print(f\"CNN Accuracy: {cnn_accuracy}\")"
      ]
    },
    {
      "cell_type": "markdown",
      "metadata": {
        "id": "mE4CyCCZxaM1"
      },
      "source": [
        "Evaluasi model RNN"
      ]
    },
    {
      "cell_type": "code",
      "execution_count": null,
      "metadata": {
        "colab": {
          "base_uri": "https://localhost:8080/"
        },
        "id": "QJlP9jcPxcOe",
        "outputId": "27f9af01-75d3-4530-ba8f-b7ed651ac840"
      },
      "outputs": [
        {
          "output_type": "stream",
          "name": "stdout",
          "text": [
            "Model: \"sequential_3\"\n",
            "_________________________________________________________________\n",
            " Layer (type)                Output Shape              Param #   \n",
            "=================================================================\n",
            " reshape_2 (Reshape)         (None, 28, 28)            0         \n",
            "                                                                 \n",
            " simple_rnn_1 (SimpleRNN)    (None, 28, 128)           20096     \n",
            "                                                                 \n",
            " simple_rnn_2 (SimpleRNN)    (None, 128)               32896     \n",
            "                                                                 \n",
            " dense_6 (Dense)             (None, 128)               16512     \n",
            "                                                                 \n",
            " dropout (Dropout)           (None, 128)               0         \n",
            "                                                                 \n",
            " dense_7 (Dense)             (None, 11)                1419      \n",
            "                                                                 \n",
            "=================================================================\n",
            "Total params: 70923 (277.04 KB)\n",
            "Trainable params: 70923 (277.04 KB)\n",
            "Non-trainable params: 0 (0.00 Byte)\n",
            "_________________________________________________________________\n",
            "Epoch 1/50\n",
            "3/3 [==============================] - 3s 244ms/step - loss: 2.4148 - accuracy: 0.1146 - val_loss: 2.3578 - val_accuracy: 0.1667 - lr: 0.0010\n",
            "Epoch 2/50\n",
            "3/3 [==============================] - 0s 38ms/step - loss: 2.3954 - accuracy: 0.1146 - val_loss: 2.3928 - val_accuracy: 0.1667 - lr: 0.0010\n",
            "Epoch 3/50\n",
            "3/3 [==============================] - 0s 36ms/step - loss: 2.4060 - accuracy: 0.0833 - val_loss: 2.3819 - val_accuracy: 0.1667 - lr: 0.0010\n",
            "Epoch 4/50\n",
            "3/3 [==============================] - 0s 40ms/step - loss: 2.3378 - accuracy: 0.1354 - val_loss: 2.3679 - val_accuracy: 0.1667 - lr: 0.0010\n",
            "Epoch 5/50\n",
            "3/3 [==============================] - 0s 50ms/step - loss: 2.3891 - accuracy: 0.1042 - val_loss: 2.3564 - val_accuracy: 0.1667 - lr: 0.0010\n",
            "Epoch 6/50\n",
            "3/3 [==============================] - 0s 39ms/step - loss: 2.3790 - accuracy: 0.1250 - val_loss: 2.3626 - val_accuracy: 0.1667 - lr: 0.0010\n",
            "Epoch 7/50\n",
            "3/3 [==============================] - 0s 55ms/step - loss: 2.3513 - accuracy: 0.1354 - val_loss: 2.3650 - val_accuracy: 0.1667 - lr: 0.0010\n",
            "Epoch 8/50\n",
            "3/3 [==============================] - 0s 67ms/step - loss: 2.3515 - accuracy: 0.1146 - val_loss: 2.3631 - val_accuracy: 0.1667 - lr: 0.0010\n",
            "Epoch 9/50\n",
            "3/3 [==============================] - 0s 57ms/step - loss: 2.3293 - accuracy: 0.1354 - val_loss: 2.3494 - val_accuracy: 0.1667 - lr: 0.0010\n",
            "Epoch 10/50\n",
            "3/3 [==============================] - 0s 59ms/step - loss: 2.3554 - accuracy: 0.1562 - val_loss: 2.3450 - val_accuracy: 0.1667 - lr: 0.0010\n",
            "Epoch 11/50\n",
            "3/3 [==============================] - 0s 65ms/step - loss: 2.3743 - accuracy: 0.0833 - val_loss: 2.3394 - val_accuracy: 0.1667 - lr: 0.0010\n",
            "Epoch 12/50\n",
            "3/3 [==============================] - 0s 63ms/step - loss: 2.2975 - accuracy: 0.1771 - val_loss: 2.3441 - val_accuracy: 0.1667 - lr: 0.0010\n",
            "Epoch 13/50\n",
            "3/3 [==============================] - 0s 69ms/step - loss: 2.3515 - accuracy: 0.1458 - val_loss: 2.3492 - val_accuracy: 0.1667 - lr: 0.0010\n",
            "Epoch 14/50\n",
            "3/3 [==============================] - 0s 67ms/step - loss: 2.3468 - accuracy: 0.1562 - val_loss: 2.3427 - val_accuracy: 0.1667 - lr: 0.0010\n",
            "Epoch 15/50\n",
            "3/3 [==============================] - 0s 65ms/step - loss: 2.3049 - accuracy: 0.1875 - val_loss: 2.3166 - val_accuracy: 0.1667 - lr: 0.0010\n",
            "Epoch 16/50\n",
            "3/3 [==============================] - 0s 76ms/step - loss: 2.3184 - accuracy: 0.1354 - val_loss: 2.2921 - val_accuracy: 0.1667 - lr: 0.0010\n",
            "Epoch 17/50\n",
            "3/3 [==============================] - 0s 84ms/step - loss: 2.2755 - accuracy: 0.1979 - val_loss: 2.2805 - val_accuracy: 0.1667 - lr: 0.0010\n",
            "Epoch 18/50\n",
            "3/3 [==============================] - 0s 76ms/step - loss: 2.2346 - accuracy: 0.2083 - val_loss: 2.2162 - val_accuracy: 0.1667 - lr: 0.0010\n",
            "Epoch 19/50\n",
            "3/3 [==============================] - 0s 72ms/step - loss: 2.2204 - accuracy: 0.1562 - val_loss: 2.1661 - val_accuracy: 0.1250 - lr: 0.0010\n",
            "Epoch 20/50\n",
            "3/3 [==============================] - 0s 74ms/step - loss: 2.0882 - accuracy: 0.2396 - val_loss: 2.0456 - val_accuracy: 0.3750 - lr: 0.0010\n",
            "Epoch 21/50\n",
            "3/3 [==============================] - 0s 71ms/step - loss: 2.1436 - accuracy: 0.2083 - val_loss: 2.0667 - val_accuracy: 0.2083 - lr: 0.0010\n",
            "Epoch 22/50\n",
            "3/3 [==============================] - 0s 69ms/step - loss: 2.1563 - accuracy: 0.1875 - val_loss: 2.0117 - val_accuracy: 0.2083 - lr: 0.0010\n",
            "Epoch 23/50\n",
            "3/3 [==============================] - 0s 48ms/step - loss: 2.0455 - accuracy: 0.2188 - val_loss: 2.1053 - val_accuracy: 0.2500 - lr: 0.0010\n",
            "Epoch 24/50\n",
            "3/3 [==============================] - 0s 41ms/step - loss: 2.1309 - accuracy: 0.2396 - val_loss: 2.0212 - val_accuracy: 0.1667 - lr: 0.0010\n",
            "Epoch 25/50\n",
            "3/3 [==============================] - 0s 47ms/step - loss: 2.0983 - accuracy: 0.2188 - val_loss: 2.1009 - val_accuracy: 0.2083 - lr: 0.0010\n",
            "Epoch 26/50\n",
            "3/3 [==============================] - 0s 40ms/step - loss: 2.0330 - accuracy: 0.1979 - val_loss: 1.9194 - val_accuracy: 0.2500 - lr: 0.0010\n",
            "Epoch 27/50\n",
            "3/3 [==============================] - 0s 48ms/step - loss: 2.1014 - accuracy: 0.2396 - val_loss: 1.9912 - val_accuracy: 0.2500 - lr: 0.0010\n",
            "Epoch 28/50\n",
            "3/3 [==============================] - 0s 44ms/step - loss: 2.0046 - accuracy: 0.2812 - val_loss: 1.9313 - val_accuracy: 0.2500 - lr: 0.0010\n",
            "Epoch 29/50\n",
            "3/3 [==============================] - 0s 41ms/step - loss: 1.9776 - accuracy: 0.2917 - val_loss: 1.9240 - val_accuracy: 0.2083 - lr: 0.0010\n",
            "Epoch 30/50\n",
            "3/3 [==============================] - 0s 44ms/step - loss: 1.9827 - accuracy: 0.2604 - val_loss: 1.8933 - val_accuracy: 0.3333 - lr: 0.0010\n",
            "Epoch 31/50\n",
            "3/3 [==============================] - 0s 38ms/step - loss: 1.9237 - accuracy: 0.2917 - val_loss: 1.8227 - val_accuracy: 0.2500 - lr: 0.0010\n",
            "Epoch 32/50\n",
            "3/3 [==============================] - 0s 38ms/step - loss: 1.8740 - accuracy: 0.2604 - val_loss: 1.7686 - val_accuracy: 0.3333 - lr: 0.0010\n",
            "Epoch 33/50\n",
            "3/3 [==============================] - 0s 36ms/step - loss: 1.9579 - accuracy: 0.3125 - val_loss: 1.8723 - val_accuracy: 0.2500 - lr: 0.0010\n",
            "Epoch 34/50\n",
            "3/3 [==============================] - 0s 40ms/step - loss: 1.8585 - accuracy: 0.2812 - val_loss: 1.7614 - val_accuracy: 0.2917 - lr: 0.0010\n",
            "Epoch 35/50\n",
            "3/3 [==============================] - 0s 36ms/step - loss: 1.8504 - accuracy: 0.2917 - val_loss: 1.6907 - val_accuracy: 0.3333 - lr: 0.0010\n",
            "Epoch 36/50\n",
            "3/3 [==============================] - 0s 43ms/step - loss: 1.8670 - accuracy: 0.2708 - val_loss: 1.6619 - val_accuracy: 0.3750 - lr: 0.0010\n",
            "Epoch 37/50\n",
            "3/3 [==============================] - 0s 45ms/step - loss: 1.8292 - accuracy: 0.2396 - val_loss: 1.6263 - val_accuracy: 0.3750 - lr: 0.0010\n",
            "Epoch 38/50\n",
            "3/3 [==============================] - 0s 47ms/step - loss: 1.7283 - accuracy: 0.3438 - val_loss: 1.5456 - val_accuracy: 0.5000 - lr: 0.0010\n",
            "Epoch 39/50\n",
            "3/3 [==============================] - 0s 39ms/step - loss: 1.7752 - accuracy: 0.3333 - val_loss: 1.4627 - val_accuracy: 0.5417 - lr: 0.0010\n",
            "Epoch 40/50\n",
            "3/3 [==============================] - 0s 41ms/step - loss: 1.7024 - accuracy: 0.3854 - val_loss: 1.6409 - val_accuracy: 0.4167 - lr: 0.0010\n",
            "Epoch 41/50\n",
            "3/3 [==============================] - 0s 40ms/step - loss: 1.8036 - accuracy: 0.3542 - val_loss: 1.5265 - val_accuracy: 0.5417 - lr: 0.0010\n",
            "Epoch 42/50\n",
            "3/3 [==============================] - 0s 52ms/step - loss: 1.8258 - accuracy: 0.2917 - val_loss: 1.6960 - val_accuracy: 0.2917 - lr: 0.0010\n",
            "Epoch 43/50\n",
            "3/3 [==============================] - 0s 38ms/step - loss: 1.7059 - accuracy: 0.3958 - val_loss: 1.7793 - val_accuracy: 0.3750 - lr: 0.0010\n",
            "Epoch 44/50\n",
            "3/3 [==============================] - 0s 39ms/step - loss: 1.9826 - accuracy: 0.2292 - val_loss: 1.8394 - val_accuracy: 0.2500 - lr: 0.0010\n",
            "1/1 [==============================] - 0s 27ms/step - loss: 1.4627 - accuracy: 0.5417\n",
            "RNN Accuracy: 0.5416666865348816\n"
          ]
        }
      ],
      "source": [
        "def create_rnn_model(input_shape, num_classes):\n",
        "    model = tf.keras.models.Sequential([\n",
        "        tf.keras.layers.Reshape((input_shape[0], input_shape[1]), input_shape=input_shape),\n",
        "        tf.keras.layers.SimpleRNN(128, activation='relu', return_sequences=True),\n",
        "        tf.keras.layers.SimpleRNN(128, activation='relu'),\n",
        "        tf.keras.layers.Dense(128, activation='relu'),\n",
        "        tf.keras.layers.Dropout(0.5),\n",
        "        tf.keras.layers.Dense(num_classes, activation='softmax')\n",
        "    ])\n",
        "    model.compile(optimizer='adam', loss='categorical_crossentropy', metrics=['accuracy'])\n",
        "    return model\n",
        "\n",
        "rnn_model = create_rnn_model(x_train.shape[1:], num_classes)\n",
        "rnn_model.summary()\n",
        "\n",
        "rnn_history = rnn_model.fit(\n",
        "    datagen.flow(x_train, y_train, batch_size=32),\n",
        "    validation_data=(x_test, y_test),\n",
        "    epochs=50,\n",
        "    callbacks=[early_stopping, reduce_lr]\n",
        ")\n",
        "\n",
        "rnn_accuracy = rnn_model.evaluate(x_test, y_test)[1]\n",
        "print(f\"RNN Accuracy: {rnn_accuracy}\")"
      ]
    },
    {
      "cell_type": "markdown",
      "metadata": {
        "id": "RB8iQIisxj0H"
      },
      "source": [
        "Evaluasi model LSTM"
      ]
    },
    {
      "cell_type": "code",
      "execution_count": null,
      "metadata": {
        "colab": {
          "base_uri": "https://localhost:8080/"
        },
        "id": "r91Lhn---eqz",
        "outputId": "67bb07f9-5aa7-4814-9c51-ee5050c4728b"
      },
      "outputs": [
        {
          "output_type": "stream",
          "name": "stdout",
          "text": [
            "Model: \"sequential_4\"\n",
            "_________________________________________________________________\n",
            " Layer (type)                Output Shape              Param #   \n",
            "=================================================================\n",
            " reshape_3 (Reshape)         (None, 28, 28)            0         \n",
            "                                                                 \n",
            " lstm_1 (LSTM)               (None, 28, 128)           80384     \n",
            "                                                                 \n",
            " lstm_2 (LSTM)               (None, 128)               131584    \n",
            "                                                                 \n",
            " dense_8 (Dense)             (None, 128)               16512     \n",
            "                                                                 \n",
            " dropout_1 (Dropout)         (None, 128)               0         \n",
            "                                                                 \n",
            " dense_9 (Dense)             (None, 11)                1419      \n",
            "                                                                 \n",
            "=================================================================\n",
            "Total params: 229899 (898.04 KB)\n",
            "Trainable params: 229899 (898.04 KB)\n",
            "Non-trainable params: 0 (0.00 Byte)\n",
            "_________________________________________________________________\n",
            "Epoch 1/50\n",
            "3/3 [==============================] - 5s 531ms/step - loss: 2.4063 - accuracy: 0.1146 - val_loss: 2.3864 - val_accuracy: 0.0833 - lr: 0.0010\n",
            "Epoch 2/50\n",
            "3/3 [==============================] - 0s 119ms/step - loss: 2.3833 - accuracy: 0.1458 - val_loss: 2.3876 - val_accuracy: 0.0833 - lr: 0.0010\n",
            "Epoch 3/50\n",
            "3/3 [==============================] - 0s 88ms/step - loss: 2.3790 - accuracy: 0.1146 - val_loss: 2.3845 - val_accuracy: 0.1667 - lr: 0.0010\n",
            "Epoch 4/50\n",
            "3/3 [==============================] - 0s 97ms/step - loss: 2.3928 - accuracy: 0.0833 - val_loss: 2.3748 - val_accuracy: 0.1667 - lr: 0.0010\n",
            "Epoch 5/50\n",
            "3/3 [==============================] - 0s 104ms/step - loss: 2.3376 - accuracy: 0.1562 - val_loss: 2.3673 - val_accuracy: 0.1667 - lr: 0.0010\n",
            "Epoch 6/50\n",
            "3/3 [==============================] - 0s 97ms/step - loss: 2.3362 - accuracy: 0.1458 - val_loss: 2.3352 - val_accuracy: 0.1667 - lr: 0.0010\n",
            "Epoch 7/50\n",
            "3/3 [==============================] - 0s 106ms/step - loss: 2.2930 - accuracy: 0.1354 - val_loss: 2.2936 - val_accuracy: 0.1250 - lr: 0.0010\n",
            "Epoch 8/50\n",
            "3/3 [==============================] - 0s 98ms/step - loss: 2.2716 - accuracy: 0.2083 - val_loss: 2.2957 - val_accuracy: 0.1667 - lr: 0.0010\n",
            "Epoch 9/50\n",
            "3/3 [==============================] - 0s 107ms/step - loss: 2.2529 - accuracy: 0.1667 - val_loss: 2.3067 - val_accuracy: 0.1250 - lr: 0.0010\n",
            "Epoch 10/50\n",
            "3/3 [==============================] - 0s 99ms/step - loss: 2.2800 - accuracy: 0.1667 - val_loss: 2.2767 - val_accuracy: 0.2500 - lr: 0.0010\n",
            "Epoch 11/50\n",
            "3/3 [==============================] - 0s 99ms/step - loss: 2.2218 - accuracy: 0.2188 - val_loss: 2.2685 - val_accuracy: 0.2500 - lr: 0.0010\n",
            "Epoch 12/50\n",
            "3/3 [==============================] - 0s 125ms/step - loss: 2.2494 - accuracy: 0.1458 - val_loss: 2.2283 - val_accuracy: 0.2500 - lr: 0.0010\n",
            "Epoch 13/50\n",
            "3/3 [==============================] - 0s 97ms/step - loss: 2.1464 - accuracy: 0.2396 - val_loss: 2.1962 - val_accuracy: 0.2500 - lr: 0.0010\n",
            "Epoch 14/50\n",
            "3/3 [==============================] - 0s 98ms/step - loss: 2.1638 - accuracy: 0.2604 - val_loss: 2.2384 - val_accuracy: 0.1667 - lr: 0.0010\n",
            "Epoch 15/50\n",
            "3/3 [==============================] - 0s 110ms/step - loss: 2.1142 - accuracy: 0.2292 - val_loss: 2.1418 - val_accuracy: 0.2500 - lr: 0.0010\n",
            "Epoch 16/50\n",
            "3/3 [==============================] - 0s 96ms/step - loss: 2.0164 - accuracy: 0.2292 - val_loss: 2.1497 - val_accuracy: 0.2500 - lr: 0.0010\n",
            "Epoch 17/50\n",
            "3/3 [==============================] - 0s 100ms/step - loss: 2.1260 - accuracy: 0.2396 - val_loss: 2.0737 - val_accuracy: 0.2500 - lr: 0.0010\n",
            "Epoch 18/50\n",
            "3/3 [==============================] - 0s 95ms/step - loss: 2.0736 - accuracy: 0.1771 - val_loss: 2.0784 - val_accuracy: 0.2083 - lr: 0.0010\n",
            "Epoch 19/50\n",
            "3/3 [==============================] - 0s 93ms/step - loss: 2.0204 - accuracy: 0.2500 - val_loss: 2.0797 - val_accuracy: 0.2500 - lr: 0.0010\n",
            "Epoch 20/50\n",
            "3/3 [==============================] - 0s 94ms/step - loss: 2.0934 - accuracy: 0.1667 - val_loss: 2.0353 - val_accuracy: 0.2083 - lr: 0.0010\n",
            "Epoch 21/50\n",
            "3/3 [==============================] - 0s 88ms/step - loss: 1.9270 - accuracy: 0.2500 - val_loss: 2.0114 - val_accuracy: 0.1250 - lr: 0.0010\n",
            "Epoch 22/50\n",
            "3/3 [==============================] - 0s 88ms/step - loss: 1.9019 - accuracy: 0.3021 - val_loss: 2.0078 - val_accuracy: 0.2500 - lr: 0.0010\n",
            "Epoch 23/50\n",
            "3/3 [==============================] - 0s 90ms/step - loss: 1.9586 - accuracy: 0.2500 - val_loss: 1.9731 - val_accuracy: 0.3333 - lr: 0.0010\n",
            "Epoch 24/50\n",
            "3/3 [==============================] - 0s 91ms/step - loss: 1.9385 - accuracy: 0.2708 - val_loss: 1.8796 - val_accuracy: 0.2917 - lr: 0.0010\n",
            "Epoch 25/50\n",
            "3/3 [==============================] - 0s 101ms/step - loss: 1.9192 - accuracy: 0.2292 - val_loss: 1.8926 - val_accuracy: 0.3750 - lr: 0.0010\n",
            "Epoch 26/50\n",
            "3/3 [==============================] - 0s 89ms/step - loss: 1.8979 - accuracy: 0.2396 - val_loss: 1.8555 - val_accuracy: 0.3333 - lr: 0.0010\n",
            "Epoch 27/50\n",
            "3/3 [==============================] - 0s 96ms/step - loss: 1.7658 - accuracy: 0.3438 - val_loss: 1.7261 - val_accuracy: 0.4583 - lr: 0.0010\n",
            "Epoch 28/50\n",
            "3/3 [==============================] - 0s 101ms/step - loss: 1.8052 - accuracy: 0.3542 - val_loss: 1.8393 - val_accuracy: 0.2917 - lr: 0.0010\n",
            "Epoch 29/50\n",
            "3/3 [==============================] - 0s 89ms/step - loss: 1.8186 - accuracy: 0.3125 - val_loss: 1.8565 - val_accuracy: 0.2917 - lr: 0.0010\n",
            "Epoch 30/50\n",
            "3/3 [==============================] - 0s 97ms/step - loss: 1.7622 - accuracy: 0.3646 - val_loss: 1.7450 - val_accuracy: 0.3333 - lr: 0.0010\n",
            "Epoch 31/50\n",
            "3/3 [==============================] - 0s 92ms/step - loss: 1.8552 - accuracy: 0.3333 - val_loss: 1.8633 - val_accuracy: 0.2917 - lr: 0.0010\n",
            "Epoch 32/50\n",
            "3/3 [==============================] - 0s 107ms/step - loss: 2.0447 - accuracy: 0.3021 - val_loss: 1.8946 - val_accuracy: 0.2917 - lr: 0.0010\n",
            "1/1 [==============================] - 0s 79ms/step - loss: 1.7261 - accuracy: 0.4583\n",
            "LSTM Accuracy: 0.4583333432674408\n"
          ]
        }
      ],
      "source": [
        "def create_lstm_model(input_shape, num_classes):\n",
        "    model = tf.keras.models.Sequential([\n",
        "        tf.keras.layers.Reshape((input_shape[0], input_shape[1]), input_shape=input_shape),\n",
        "        tf.keras.layers.LSTM(128, activation='relu', return_sequences=True),\n",
        "        tf.keras.layers.LSTM(128, activation='relu'),\n",
        "        tf.keras.layers.Dense(128, activation='relu'),\n",
        "        tf.keras.layers.Dropout(0.5),\n",
        "        tf.keras.layers.Dense(num_classes, activation='softmax')\n",
        "    ])\n",
        "    model.compile(optimizer='adam', loss='categorical_crossentropy', metrics=['accuracy'])\n",
        "    return model\n",
        "\n",
        "lstm_model = create_lstm_model(x_train.shape[1:], num_classes)\n",
        "lstm_model.summary()\n",
        "\n",
        "lstm_history = lstm_model.fit(\n",
        "    datagen.flow(x_train, y_train, batch_size=32),\n",
        "    validation_data=(x_test, y_test),\n",
        "    epochs=50,\n",
        "    callbacks=[early_stopping, reduce_lr]\n",
        ")\n",
        "\n",
        "lstm_accuracy = lstm_model.evaluate(x_test, y_test)[1]\n",
        "print(f\"LSTM Accuracy: {lstm_accuracy}\")"
      ]
    },
    {
      "cell_type": "markdown",
      "metadata": {
        "id": "BmLd6Zuz-m0_"
      },
      "source": [
        "Memuat model setelah dilatih"
      ]
    },
    {
      "cell_type": "code",
      "execution_count": null,
      "metadata": {
        "id": "3K2Vbef6-pfq",
        "colab": {
          "base_uri": "https://localhost:8080/"
        },
        "outputId": "40afa494-2021-44a6-d7ae-deb79ce646ea"
      },
      "outputs": [
        {
          "output_type": "stream",
          "name": "stderr",
          "text": [
            "/usr/local/lib/python3.10/dist-packages/keras/src/engine/training.py:3103: UserWarning: You are saving your model as an HDF5 file via `model.save()`. This file format is considered legacy. We recommend using instead the native Keras format, e.g. `model.save('my_model.keras')`.\n",
            "  saving_api.save_model(\n"
          ]
        }
      ],
      "source": [
        "cnn_model.save('/content/drive/MyDrive/cnn_model.h5')\n",
        "rnn_model.save('/content/drive/MyDrive/rnn_model.h5')\n",
        "lstm_model.save('/content/drive/MyDrive/lstm_model.h5')"
      ]
    },
    {
      "cell_type": "markdown",
      "metadata": {
        "id": "HXrEZNS7-x6Z"
      },
      "source": [
        "Fungsi untuk Memuat dan Mengklasifikasikan Gambar Baru"
      ]
    },
    {
      "cell_type": "code",
      "execution_count": null,
      "metadata": {
        "colab": {
          "base_uri": "https://localhost:8080/"
        },
        "id": "o29uhaMU-yof",
        "outputId": "f332a52f-e488-4839-9cfc-f03ee32fac58"
      },
      "outputs": [
        {
          "output_type": "stream",
          "name": "stdout",
          "text": [
            "1/1 [==============================] - 0s 123ms/step\n",
            "Predicted Label: ikfina\n"
          ]
        }
      ],
      "source": [
        "from tensorflow.keras.models import load_model\n",
        "from PIL import Image\n",
        "import numpy as np\n",
        "\n",
        "# Fungsi untuk memproses gambar\n",
        "def process_image_for_prediction(image_path):\n",
        "    img = Image.open(image_path)\n",
        "    img = img.resize((28, 28))\n",
        "    img = img.convert('L')\n",
        "    img_array = np.array(img)\n",
        "    img_array = img_array / 255.0\n",
        "    img_array = np.expand_dims(img_array, axis=-1)  # Menambahkan dimensi untuk channel\n",
        "    img_array = np.expand_dims(img_array, axis=0)   # Menambahkan batch size\n",
        "    return img_array\n",
        "\n",
        "# Fungsi untuk memprediksi gambar baru menggunakan model yang telah dilatih\n",
        "def predict_image(model_path, image_path, label_names):\n",
        "    model = load_model(model_path)\n",
        "    img_array = process_image_for_prediction(image_path)\n",
        "    prediction = model.predict(img_array)\n",
        "    predicted_label = label_names[np.argmax(prediction)]\n",
        "    return predicted_label\n",
        "\n",
        "# Contoh penggunaan fungsi prediksi\n",
        "label_names = sorted(os.listdir(dataset_path))  # Nama-nama label\n",
        "image_path = '/content/drive/MyDrive/SEMESTER 4/Machine Learning/dataset sepatu/ikfina/IMG-20240613-WA0074.jpg'  # Ganti dengan path gambar baru\n",
        "model_path = '/content/drive/MyDrive/cnn_model.h5'  # Ganti dengan path model yang diinginkan\n",
        "\n",
        "predicted_label = predict_image(model_path, image_path, label_names)\n",
        "print(f\"Predicted Label: {predicted_label}\")\n"
      ]
    },
    {
      "cell_type": "markdown",
      "metadata": {
        "id": "uUQcnOiO-8a6"
      },
      "source": [
        "Mengimplementasikan Input Gambar di Google Colab"
      ]
    },
    {
      "cell_type": "code",
      "execution_count": null,
      "metadata": {
        "colab": {
          "base_uri": "https://localhost:8080/",
          "height": 498
        },
        "id": "dJBBlyxN-9RB",
        "outputId": "d1201844-8e65-483f-82cc-04a38f3a4f6c"
      },
      "outputs": [
        {
          "output_type": "display_data",
          "data": {
            "text/plain": [
              "<IPython.core.display.HTML object>"
            ],
            "text/html": [
              "\n",
              "     <input type=\"file\" id=\"files-b34a8f7e-066b-4e83-a4f2-cef7deb1c8c4\" name=\"files[]\" multiple disabled\n",
              "        style=\"border:none\" />\n",
              "     <output id=\"result-b34a8f7e-066b-4e83-a4f2-cef7deb1c8c4\">\n",
              "      Upload widget is only available when the cell has been executed in the\n",
              "      current browser session. Please rerun this cell to enable.\n",
              "      </output>\n",
              "      <script>// Copyright 2017 Google LLC\n",
              "//\n",
              "// Licensed under the Apache License, Version 2.0 (the \"License\");\n",
              "// you may not use this file except in compliance with the License.\n",
              "// You may obtain a copy of the License at\n",
              "//\n",
              "//      http://www.apache.org/licenses/LICENSE-2.0\n",
              "//\n",
              "// Unless required by applicable law or agreed to in writing, software\n",
              "// distributed under the License is distributed on an \"AS IS\" BASIS,\n",
              "// WITHOUT WARRANTIES OR CONDITIONS OF ANY KIND, either express or implied.\n",
              "// See the License for the specific language governing permissions and\n",
              "// limitations under the License.\n",
              "\n",
              "/**\n",
              " * @fileoverview Helpers for google.colab Python module.\n",
              " */\n",
              "(function(scope) {\n",
              "function span(text, styleAttributes = {}) {\n",
              "  const element = document.createElement('span');\n",
              "  element.textContent = text;\n",
              "  for (const key of Object.keys(styleAttributes)) {\n",
              "    element.style[key] = styleAttributes[key];\n",
              "  }\n",
              "  return element;\n",
              "}\n",
              "\n",
              "// Max number of bytes which will be uploaded at a time.\n",
              "const MAX_PAYLOAD_SIZE = 100 * 1024;\n",
              "\n",
              "function _uploadFiles(inputId, outputId) {\n",
              "  const steps = uploadFilesStep(inputId, outputId);\n",
              "  const outputElement = document.getElementById(outputId);\n",
              "  // Cache steps on the outputElement to make it available for the next call\n",
              "  // to uploadFilesContinue from Python.\n",
              "  outputElement.steps = steps;\n",
              "\n",
              "  return _uploadFilesContinue(outputId);\n",
              "}\n",
              "\n",
              "// This is roughly an async generator (not supported in the browser yet),\n",
              "// where there are multiple asynchronous steps and the Python side is going\n",
              "// to poll for completion of each step.\n",
              "// This uses a Promise to block the python side on completion of each step,\n",
              "// then passes the result of the previous step as the input to the next step.\n",
              "function _uploadFilesContinue(outputId) {\n",
              "  const outputElement = document.getElementById(outputId);\n",
              "  const steps = outputElement.steps;\n",
              "\n",
              "  const next = steps.next(outputElement.lastPromiseValue);\n",
              "  return Promise.resolve(next.value.promise).then((value) => {\n",
              "    // Cache the last promise value to make it available to the next\n",
              "    // step of the generator.\n",
              "    outputElement.lastPromiseValue = value;\n",
              "    return next.value.response;\n",
              "  });\n",
              "}\n",
              "\n",
              "/**\n",
              " * Generator function which is called between each async step of the upload\n",
              " * process.\n",
              " * @param {string} inputId Element ID of the input file picker element.\n",
              " * @param {string} outputId Element ID of the output display.\n",
              " * @return {!Iterable<!Object>} Iterable of next steps.\n",
              " */\n",
              "function* uploadFilesStep(inputId, outputId) {\n",
              "  const inputElement = document.getElementById(inputId);\n",
              "  inputElement.disabled = false;\n",
              "\n",
              "  const outputElement = document.getElementById(outputId);\n",
              "  outputElement.innerHTML = '';\n",
              "\n",
              "  const pickedPromise = new Promise((resolve) => {\n",
              "    inputElement.addEventListener('change', (e) => {\n",
              "      resolve(e.target.files);\n",
              "    });\n",
              "  });\n",
              "\n",
              "  const cancel = document.createElement('button');\n",
              "  inputElement.parentElement.appendChild(cancel);\n",
              "  cancel.textContent = 'Cancel upload';\n",
              "  const cancelPromise = new Promise((resolve) => {\n",
              "    cancel.onclick = () => {\n",
              "      resolve(null);\n",
              "    };\n",
              "  });\n",
              "\n",
              "  // Wait for the user to pick the files.\n",
              "  const files = yield {\n",
              "    promise: Promise.race([pickedPromise, cancelPromise]),\n",
              "    response: {\n",
              "      action: 'starting',\n",
              "    }\n",
              "  };\n",
              "\n",
              "  cancel.remove();\n",
              "\n",
              "  // Disable the input element since further picks are not allowed.\n",
              "  inputElement.disabled = true;\n",
              "\n",
              "  if (!files) {\n",
              "    return {\n",
              "      response: {\n",
              "        action: 'complete',\n",
              "      }\n",
              "    };\n",
              "  }\n",
              "\n",
              "  for (const file of files) {\n",
              "    const li = document.createElement('li');\n",
              "    li.append(span(file.name, {fontWeight: 'bold'}));\n",
              "    li.append(span(\n",
              "        `(${file.type || 'n/a'}) - ${file.size} bytes, ` +\n",
              "        `last modified: ${\n",
              "            file.lastModifiedDate ? file.lastModifiedDate.toLocaleDateString() :\n",
              "                                    'n/a'} - `));\n",
              "    const percent = span('0% done');\n",
              "    li.appendChild(percent);\n",
              "\n",
              "    outputElement.appendChild(li);\n",
              "\n",
              "    const fileDataPromise = new Promise((resolve) => {\n",
              "      const reader = new FileReader();\n",
              "      reader.onload = (e) => {\n",
              "        resolve(e.target.result);\n",
              "      };\n",
              "      reader.readAsArrayBuffer(file);\n",
              "    });\n",
              "    // Wait for the data to be ready.\n",
              "    let fileData = yield {\n",
              "      promise: fileDataPromise,\n",
              "      response: {\n",
              "        action: 'continue',\n",
              "      }\n",
              "    };\n",
              "\n",
              "    // Use a chunked sending to avoid message size limits. See b/62115660.\n",
              "    let position = 0;\n",
              "    do {\n",
              "      const length = Math.min(fileData.byteLength - position, MAX_PAYLOAD_SIZE);\n",
              "      const chunk = new Uint8Array(fileData, position, length);\n",
              "      position += length;\n",
              "\n",
              "      const base64 = btoa(String.fromCharCode.apply(null, chunk));\n",
              "      yield {\n",
              "        response: {\n",
              "          action: 'append',\n",
              "          file: file.name,\n",
              "          data: base64,\n",
              "        },\n",
              "      };\n",
              "\n",
              "      let percentDone = fileData.byteLength === 0 ?\n",
              "          100 :\n",
              "          Math.round((position / fileData.byteLength) * 100);\n",
              "      percent.textContent = `${percentDone}% done`;\n",
              "\n",
              "    } while (position < fileData.byteLength);\n",
              "  }\n",
              "\n",
              "  // All done.\n",
              "  yield {\n",
              "    response: {\n",
              "      action: 'complete',\n",
              "    }\n",
              "  };\n",
              "}\n",
              "\n",
              "scope.google = scope.google || {};\n",
              "scope.google.colab = scope.google.colab || {};\n",
              "scope.google.colab._files = {\n",
              "  _uploadFiles,\n",
              "  _uploadFilesContinue,\n",
              "};\n",
              "})(self);\n",
              "</script> "
            ]
          },
          "metadata": {}
        },
        {
          "output_type": "stream",
          "name": "stdout",
          "text": [
            "Saving IMG20240613113236.jpg to IMG20240613113236.jpg\n"
          ]
        },
        {
          "output_type": "display_data",
          "data": {
            "text/plain": [
              "<Figure size 640x480 with 1 Axes>"
            ],
            "image/png": "[encoded data removed]"
          },
          "metadata": {}
        },
        {
          "output_type": "stream",
          "name": "stdout",
          "text": [
            "1/1 [==============================] - 0s 98ms/step\n",
            "Predicted Label: aisyah putri\n"
          ]
        }
      ],
      "source": [
        "from google.colab import files\n",
        "import matplotlib.pyplot as plt\n",
        "\n",
        "# Mengunggah file gambar\n",
        "uploaded = files.upload()\n",
        "\n",
        "# Memproses dan memprediksi gambar yang diunggah\n",
        "for image_name in uploaded.keys():\n",
        "    img_path = f\"/content/{image_name}\"\n",
        "    plt.imshow(Image.open(img_path), cmap='gray')\n",
        "    plt.axis('off')\n",
        "    plt.show()\n",
        "\n",
        "    predicted_label = predict_image(model_path, img_path, label_names)\n",
        "    print(f\"Predicted Label: {predicted_label}\")"
      ]
    }
  ],
  "metadata": {
    "colab": {
      "provenance": [],
      "include_colab_link": true
    },
    "kernelspec": {
      "display_name": "Python 3",
      "name": "python3"
    },
    "language_info": {
      "name": "python"
    }
  },
  "nbformat": 4,
  "nbformat_minor": 0
}