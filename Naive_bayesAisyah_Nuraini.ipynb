{
  "nbformat": 4,
  "nbformat_minor": 0,
  "metadata": {
    "colab": {
      "provenance": [],
      "authorship_tag": "ABX9TyO78LpK7eurJuz/tzTPXbDG",
      "include_colab_link": true
    },
    "kernelspec": {
      "name": "python3",
      "display_name": "Python 3"
    },
    "language_info": {
      "name": "python"
    }
  },
  "cells": [
    {
      "cell_type": "markdown",
      "metadata": {
        "id": "view-in-github",
        "colab_type": "text"
      },
      "source": [
        "<a href=\"https://colab.research.google.com/github/aisyahaini/MachineLearning/blob/main/Naive_bayesAisyah_Nuraini.ipynb\" target=\"_parent\"><img src=\"https://colab.research.google.com/assets/colab-badge.svg\" alt=\"Open In Colab\"/></a>"
      ]
    },
    {
      "cell_type": "code",
      "source": [
        "import pandas as pd\n",
        "from sklearn.naive_bayes import GaussianNB\n",
        "from sklearn.model_selection import train_test_split\n",
        "from sklearn.metrics import accuracy_score, precision_score, recall_score, f1_score\n",
        "from sklearn.preprocessing import LabelEncoder\n",
        "from imblearn.over_sampling import RandomOverSampler\n",
        "\n",
        "# Fungsi untuk menghitung akurasi\n",
        "def calculate_accuracy(y_true, y_pred):\n",
        "    return accuracy_score(y_true, y_pred)\n",
        "\n",
        "# Memuat dataset dari file CSV\n",
        "dataset = pd.read_csv('/content/nb.csv')\n",
        "\n",
        "# Pisahkan fitur dan label\n",
        "X = dataset.drop(columns=['y'])\n",
        "y = dataset['y']\n",
        "\n",
        "# Label encoding untuk fitur kategorikal\n",
        "label_encoder = LabelEncoder()\n",
        "for column in X.columns:\n",
        "    if X[column].dtype == 'object':\n",
        "        X[column] = label_encoder.fit_transform(X[column])\n",
        "\n",
        "# Bagi data menjadi data latih dan data uji\n",
        "X_train, X_test, y_train, y_test = train_test_split(X, y, test_size=0.2, random_state=42)\n",
        "\n",
        "# Naive Bayes sebelum oversampling\n",
        "nb_classifier = GaussianNB()\n",
        "nb_classifier.fit(X_train, y_train)\n",
        "y_pred_before = nb_classifier.predict(X_test)\n",
        "accuracy_before = calculate_accuracy(y_test, y_pred_before)\n",
        "recall_before = recall_score(y_test, y_pred_before, pos_label='yes')\n",
        "precision_before = precision_score(y_test, y_pred_before, pos_label='yes')\n",
        "f1_before = f1_score(y_test, y_pred_before, pos_label='yes')\n",
        "\n",
        "# Oversampling menggunakan RandomOverSampler\n",
        "oversampler = RandomOverSampler()\n",
        "X_train_oversampled, y_train_oversampled = oversampler.fit_resample(X_train, y_train)\n",
        "\n",
        "# Naive Bayes setelah oversampling\n",
        "nb_classifier_oversampled = GaussianNB()\n",
        "nb_classifier_oversampled.fit(X_train_oversampled, y_train_oversampled)\n",
        "y_pred_after = nb_classifier_oversampled.predict(X_test)\n",
        "accuracy_after = calculate_accuracy(y_test, y_pred_after)\n",
        "recall_after = recall_score(y_test, y_pred_after, pos_label='yes')\n",
        "precision_after = precision_score(y_test, y_pred_after, pos_label='yes')\n",
        "f1_after = f1_score(y_test, y_pred_after, pos_label='yes')\n",
        "\n",
        "print(\"Akurasi sebelum oversampling:\", accuracy_before)\n",
        "print(\"Recall sebelum oversampling:\", recall_before)\n",
        "print(\"Precision sebelum oversampling:\", precision_before)\n",
        "print(\"F1-score sebelum oversampling:\", f1_before)\n",
        "\n",
        "print(\"\\nAkurasi setelah oversampling:\", accuracy_after)\n",
        "print(\"Recall setelah oversampling:\", recall_after)\n",
        "print(\"Precision setelah oversampling:\", precision_after)\n",
        "print(\"F1-score setelah oversampling:\", f1_after)\n"
      ],
      "metadata": {
        "colab": {
          "base_uri": "https://localhost:8080/"
        },
        "id": "GrK9zB6lXoqR",
        "outputId": "50fb62a3-0187-4126-fea0-a9c62e1dab06"
      },
      "execution_count": null,
      "outputs": [
        {
          "output_type": "stream",
          "name": "stdout",
          "text": [
            "Akurasi sebelum oversampling: 0.5\n",
            "Recall sebelum oversampling: 0.0\n",
            "Precision sebelum oversampling: 0.0\n",
            "F1-score sebelum oversampling: 0.0\n",
            "\n",
            "Akurasi setelah oversampling: 0.5\n",
            "Recall setelah oversampling: 0.0\n",
            "Precision setelah oversampling: 0.0\n",
            "F1-score setelah oversampling: 0.0\n"
          ]
        },
        {
          "output_type": "stream",
          "name": "stderr",
          "text": [
            "/usr/local/lib/python3.10/dist-packages/sklearn/metrics/_classification.py:1344: UndefinedMetricWarning: Precision is ill-defined and being set to 0.0 due to no predicted samples. Use `zero_division` parameter to control this behavior.\n",
            "  _warn_prf(average, modifier, msg_start, len(result))\n",
            "/usr/local/lib/python3.10/dist-packages/sklearn/metrics/_classification.py:1344: UndefinedMetricWarning: Precision is ill-defined and being set to 0.0 due to no predicted samples. Use `zero_division` parameter to control this behavior.\n",
            "  _warn_prf(average, modifier, msg_start, len(result))\n"
          ]
        }
      ]
    }
  ]
}