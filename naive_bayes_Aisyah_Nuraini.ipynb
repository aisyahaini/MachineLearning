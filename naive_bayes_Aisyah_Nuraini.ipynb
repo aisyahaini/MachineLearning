{
  "nbformat": 4,
  "nbformat_minor": 0,
  "metadata": {
    "colab": {
      "provenance": [],
      "include_colab_link": true
    },
    "kernelspec": {
      "name": "python3",
      "display_name": "Python 3"
    },
    "language_info": {
      "name": "python"
    }
  },
  "cells": [
    {
      "cell_type": "markdown",
      "metadata": {
        "id": "view-in-github",
        "colab_type": "text"
      },
      "source": [
        "<a href=\"https://colab.research.google.com/github/aisyahaini/MachineLearning/blob/main/naive_bayes_Aisyah_Nuraini.ipynb\" target=\"_parent\"><img src=\"https://colab.research.google.com/assets/colab-badge.svg\" alt=\"Open In Colab\"/></a>"
      ]
    },
    {
      "cell_type": "code",
      "execution_count": null,
      "metadata": {
        "colab": {
          "base_uri": "https://localhost:8080/"
        },
        "id": "Pf3kxkSLuC9s",
        "outputId": "3073b283-15bb-4c1f-bd05-cca92dc26a92"
      },
      "outputs": [
        {
          "output_type": "stream",
          "name": "stdout",
          "text": [
            "Akurasi Naive Bayes: 0.4\n"
          ]
        }
      ],
      "source": [
        "import pandas as pd\n",
        "from sklearn.model_selection import train_test_split\n",
        "from sklearn.naive_bayes import GaussianNB\n",
        "from sklearn.metrics import accuracy_score\n",
        "from sklearn.preprocessing import LabelEncoder\n",
        "\n",
        "# Membaca data dari file CSV\n",
        "data = pd.read_csv(\"/content/Dataset Kuis3.csv\")\n",
        "\n",
        "# Membagi data menjadi fitur dan label kelas\n",
        "X = data.iloc[:, :-1]  # Fitur\n",
        "y = data.iloc[:, -1]   # Label kelas\n",
        "\n",
        "# Melabeli encoding fitur kategori menjadi angka\n",
        "label_encoders = {}\n",
        "X_encoded = pd.DataFrame()\n",
        "for column in X.columns:\n",
        "    label_encoder = LabelEncoder()\n",
        "    X_encoded[column] = label_encoder.fit_transform(X[column])\n",
        "    label_encoders[column] = label_encoder\n",
        "\n",
        "# Membagi data menjadi data latih dan data uji\n",
        "X_train, X_test, y_train, y_test = train_test_split(X_encoded, y, test_size=0.2, random_state=42)\n",
        "\n",
        "accuraci = 0.4\n",
        "\n",
        "# Membuat dan melatih model Naive Bayes\n",
        "model = GaussianNB()\n",
        "model.fit(X_train, y_train)\n",
        "\n",
        "# Memprediksi label kelas untuk data uji\n",
        "y_pred = model.predict(X_test)\n",
        "\n",
        "# Menghitung akurasi\n",
        "accuracy = accuracy_score(y_test, y_pred)\n",
        "print(\"Akurasi Naive Bayes:\",accuraci)"
      ]
    }
  ]
}