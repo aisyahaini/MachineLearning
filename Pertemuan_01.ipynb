{
  "nbformat": 4,
  "nbformat_minor": 0,
  "metadata": {
    "colab": {
      "provenance": [],
      "toc_visible": true,
      "include_colab_link": true
    },
    "kernelspec": {
      "name": "python3",
      "display_name": "Python 3"
    },
    "language_info": {
      "name": "python"
    }
  },
  "cells": [
    {
      "cell_type": "markdown",
      "metadata": {
        "id": "view-in-github",
        "colab_type": "text"
      },
      "source": [
        "<a href=\"https://colab.research.google.com/github/aisyahaini/MachineLearning/blob/main/Pertemuan_01.ipynb\" target=\"_parent\"><img src=\"https://colab.research.google.com/assets/colab-badge.svg\" alt=\"Open In Colab\"/></a>"
      ]
    },
    {
      "cell_type": "markdown",
      "source": [
        "#Fundamental Python"
      ],
      "metadata": {
        "id": "MoDNj_cuyzBh"
      }
    },
    {
      "cell_type": "markdown",
      "source": [
        "##Output dan Input\n"
      ],
      "metadata": {
        "id": "H-yBVyn0zExM"
      }
    },
    {
      "cell_type": "code",
      "execution_count": null,
      "metadata": {
        "colab": {
          "base_uri": "https://localhost:8080/"
        },
        "id": "lY4w04zeyhfV",
        "outputId": "1273c7c4-9dc6-41c7-d7e4-91bdc330f41e"
      },
      "outputs": [
        {
          "output_type": "stream",
          "name": "stdout",
          "text": [
            "Hello World\n"
          ]
        }
      ],
      "source": [
        "print(\"Hello World\")"
      ]
    },
    {
      "cell_type": "code",
      "source": [
        "print(\"Masukkan Nama Kalian : \")\n",
        "nama = input()\n",
        "nim = input()\n",
        "fakultas = input()\n",
        "print(\"=========\")\n",
        "print(\"Namaku adalah : \" + nama)\n",
        "print(\"Nimku adalah : \" + nim)\n",
        "print(\"Fakultasku adalah : \" + fakultas)"
      ],
      "metadata": {
        "colab": {
          "base_uri": "https://localhost:8080/"
        },
        "id": "EEu1EqagzTzK",
        "outputId": "2da0a728-7621-4885-b47f-ecbb94c4ae30"
      },
      "execution_count": null,
      "outputs": [
        {
          "output_type": "stream",
          "name": "stdout",
          "text": [
            "Masukkan Nama Kalian : \n",
            "isa\n",
            "=========\n",
            "Namaku adalah : isa\n"
          ]
        }
      ]
    },
    {
      "cell_type": "markdown",
      "source": [
        "##Data Type"
      ],
      "metadata": {
        "id": "QN07LVXo0nW3"
      }
    },
    {
      "cell_type": "code",
      "source": [
        "nama = \"Fari\"\n",
        "umur = 20\n",
        "tinggi = 150.7\n",
        "mahasiswaAktif = True\n",
        "\n",
        "print(type(nama))\n",
        "print(type(umur))\n",
        "print(type(tinggi))\n",
        "print(type(mahasiswaAktif))"
      ],
      "metadata": {
        "colab": {
          "base_uri": "https://localhost:8080/"
        },
        "id": "m4qgLBzN0qcK",
        "outputId": "773b6da4-1fc4-4078-806a-1de1d01c8541"
      },
      "execution_count": null,
      "outputs": [
        {
          "output_type": "stream",
          "name": "stdout",
          "text": [
            "<class 'str'>\n",
            "<class 'int'>\n",
            "<class 'float'>\n",
            "<class 'bool'>\n"
          ]
        }
      ]
    },
    {
      "cell_type": "markdown",
      "source": [
        "##Basic Arithmatic Operation / Dasar Operasi Aritmatika"
      ],
      "metadata": {
        "id": "1fbgODrQ2kO5"
      }
    },
    {
      "cell_type": "code",
      "source": [
        "penjumlahan = 5 + 5\n",
        "pengurang = 3-2\n",
        "perkalian = 4 * 9\n",
        "pembagian = 8 / 4\n",
        "modulus = 29 % 3\n",
        "\n",
        "print(\"Hasil Penjumlahan : \" + str(penjumlahan))\n",
        "print(\"Hasil Pengurangan : \" + str(pengurang))\n",
        "print(\"Hasil Perkalian : \" + str(perkalian))\n",
        "print(\"Hasil Pembagian : \" + str(pembagian))\n",
        "print(\"Hasil Modulus : \" + str(modulus))"
      ],
      "metadata": {
        "colab": {
          "base_uri": "https://localhost:8080/"
        },
        "id": "ulrnMO112uli",
        "outputId": "18294dc3-a709-47e8-fd7f-4300a02a71ca"
      },
      "execution_count": null,
      "outputs": [
        {
          "output_type": "stream",
          "name": "stdout",
          "text": [
            "Hasil Penjumlahan : 10\n",
            "Hasil Pengurangan : 1\n",
            "Hasil Perkalian : 36\n",
            "Hasil Pembagian : 2.0\n",
            "Hasil Modulus : 2\n"
          ]
        }
      ]
    },
    {
      "cell_type": "code",
      "source": [
        "penjumlahan = True + True\n",
        "\n",
        "print(penjumlahan)\n",
        "print(type(penjumlahan))"
      ],
      "metadata": {
        "colab": {
          "base_uri": "https://localhost:8080/"
        },
        "id": "yv8Fnqoy5qRa",
        "outputId": "d47a11de-482f-47f3-ad8a-864cc4494f16"
      },
      "execution_count": null,
      "outputs": [
        {
          "output_type": "stream",
          "name": "stdout",
          "text": [
            "2\n",
            "<class 'int'>\n"
          ]
        }
      ]
    },
    {
      "cell_type": "markdown",
      "source": [
        "##Komen"
      ],
      "metadata": {
        "id": "uz1ZE7Xb7DA-"
      }
    },
    {
      "cell_type": "code",
      "source": [
        "#ini adalah komentar\n",
        "#Aku pria sigma\n",
        "\n",
        "#tipe datanya adalah string\n",
        "nama = \"hafid\"\n",
        "#tipe datanya adalah int\n",
        "umur = 18\n",
        "#tipe datanya adalah float\n",
        "tinggi = 180.7\n",
        "\n",
        "\"\"\"idasibioadsughdiuashdioashdiohsdkasdkasdasd\n",
        "asdasdasdasd\n",
        "asdasdasdasdasd\n",
        "asdasdasd\"\"\""
      ],
      "metadata": {
        "colab": {
          "base_uri": "https://localhost:8080/",
          "height": 36
        },
        "id": "uB_-8U6u7CRT",
        "outputId": "3acaa380-4ce8-4d3a-8883-24e725e68966"
      },
      "execution_count": null,
      "outputs": [
        {
          "output_type": "execute_result",
          "data": {
            "text/plain": [
              "'idasibioadsughdiuashdioashdiohsdkasdkasdasd\\nasdasdasdasd\\nasdasdasdasdasd\\nasdasdasd'"
            ],
            "application/vnd.google.colaboratory.intrinsic+json": {
              "type": "string"
            }
          },
          "metadata": {},
          "execution_count": 26
        }
      ]
    },
    {
      "cell_type": "markdown",
      "source": [
        "##Perkondisian"
      ],
      "metadata": {
        "id": "qhdBgOBE8lUK"
      }
    },
    {
      "cell_type": "code",
      "source": [
        "# if(5 > 7) :\n",
        "#   print(True)\n",
        "# else :\n",
        "#   print(False)\n",
        "\n",
        "# suhu = 38\n",
        "\n",
        "# if(suhu > 35):\n",
        "#   print(\"Panassss\")\n",
        "# else:\n",
        "#   print(\"Kulbettt\")\n",
        "\n",
        "nilai = int(input()) #Mengganti tipe data string menjadi int\n",
        "\n",
        "if(nilai >= 85):\n",
        "  print(\"A\")\n",
        "elif(nilai >= 80):\n",
        "  print(\"AB\")\n",
        "elif(nilai >= 70):\n",
        "  print(\"B\")\n",
        "elif(nilai >= 65):\n",
        "  print(\"BC\")\n",
        "else:\n",
        "  print(\"GOBLOOKK GA NIAT SEKOLAH\")\n",
        "\n",
        "\n",
        "#Coba kalian"
      ],
      "metadata": {
        "colab": {
          "base_uri": "https://localhost:8080/"
        },
        "id": "wAkvb_Ni8kp7",
        "outputId": "49fbdb45-1e7d-47fc-85dd-fe04d77f8514"
      },
      "execution_count": null,
      "outputs": [
        {
          "output_type": "stream",
          "name": "stdout",
          "text": [
            "40\n",
            "GOBLOOKK GA NIAT SEKOLAH\n"
          ]
        }
      ]
    },
    {
      "cell_type": "markdown",
      "source": [
        "Study Case\n",
        "\n",
        "Berikan sebuah perkondisian dimana output tersebut adalah bilangan ganjil atau bilangan genap"
      ],
      "metadata": {
        "id": "20u4J6RtAMCc"
      }
    },
    {
      "cell_type": "code",
      "source": [
        "nilai = int(input())\n",
        "\n",
        "if(nilai % 2  == 0):\n",
        "  print(\"Genap\")\n",
        "else:\n",
        "  print(\"Ganjil\")"
      ],
      "metadata": {
        "colab": {
          "base_uri": "https://localhost:8080/"
        },
        "id": "xJ5Bf9bYAfWO",
        "outputId": "90c63a88-d514-4b59-935e-f89f34e8ba43"
      },
      "execution_count": null,
      "outputs": [
        {
          "output_type": "stream",
          "name": "stdout",
          "text": [
            "6\n",
            "Genap\n"
          ]
        }
      ]
    },
    {
      "cell_type": "markdown",
      "source": [
        "#Perulangan"
      ],
      "metadata": {
        "id": "r4WdkeGyCd-j"
      }
    },
    {
      "cell_type": "code",
      "source": [
        "#Perulangan For\n",
        "\n",
        "# nilai i defaultnya adalah 0\n",
        "for i  in range(1,5):\n",
        "  print(i)\n",
        "\n",
        "\n",
        "print(\"=======\")\n",
        "#Perulangan While\n",
        "i = 0\n",
        "while i < 5:\n",
        "  print(i)\n",
        "  i = 1 + i\n"
      ],
      "metadata": {
        "colab": {
          "base_uri": "https://localhost:8080/"
        },
        "id": "hUh9clXLCdl7",
        "outputId": "cb160b65-a33c-4fe1-bcf7-13742817a0f2"
      },
      "execution_count": null,
      "outputs": [
        {
          "output_type": "stream",
          "name": "stdout",
          "text": [
            "1\n",
            "2\n",
            "3\n",
            "4\n",
            "=======\n",
            "0\n",
            "1\n",
            "2\n",
            "3\n",
            "4\n"
          ]
        }
      ]
    },
    {
      "cell_type": "code",
      "source": [
        "for i in range(5):\n",
        "  if(i % 2 == 0):\n",
        "    print(\"Angka \" + str(i) + \" adalah genap\")\n",
        "  else:\n",
        "    print(\"Angka \" + str(i) + \" adalah ganjil\")"
      ],
      "metadata": {
        "colab": {
          "base_uri": "https://localhost:8080/"
        },
        "id": "u2Hv5W9UGWAw",
        "outputId": "087b4700-bed3-4dc6-b2c4-8c853b43bbc3"
      },
      "execution_count": null,
      "outputs": [
        {
          "output_type": "stream",
          "name": "stdout",
          "text": [
            "Angka 0 adalah genap\n",
            "Angka 1 adalah ganjil\n",
            "Angka 2 adalah genap\n",
            "Angka 3 adalah ganjil\n",
            "Angka 4 adalah genap\n"
          ]
        }
      ]
    },
    {
      "cell_type": "markdown",
      "source": [
        "Study Case\n",
        "\n",
        "\n",
        "Pakai Perulangan dan perkondisian\n",
        "Outputkan Nilai ganjil aja"
      ],
      "metadata": {
        "id": "cvWefAfTHpB0"
      }
    },
    {
      "cell_type": "code",
      "source": [
        "nilai = 1\n",
        "while nilai <= 10:\n",
        "  if(nilai % 2 == 1 ):\n",
        "    print(\"Angka \" + str(nilai) + \" adalah ganjil\")\n",
        "\n",
        "  nilai = nilai + 1"
      ],
      "metadata": {
        "colab": {
          "base_uri": "https://localhost:8080/"
        },
        "id": "7zDZQRkeH43A",
        "outputId": "d2b525f8-0754-4e26-8193-285639499f95"
      },
      "execution_count": null,
      "outputs": [
        {
          "output_type": "stream",
          "name": "stdout",
          "text": [
            "Angka 1 adalah ganjil\n",
            "Angka 3 adalah ganjil\n",
            "Angka 5 adalah ganjil\n",
            "Angka 7 adalah ganjil\n",
            "Angka 9 adalah ganjil\n"
          ]
        }
      ]
    },
    {
      "cell_type": "markdown",
      "source": [
        "##Array"
      ],
      "metadata": {
        "id": "WXsXcBC4IrVZ"
      }
    },
    {
      "cell_type": "code",
      "source": [
        "nilai = [80,30,10] # 0 , 1 , 2\n",
        "array = [\"Apel\", 40, 30.6]\n",
        "print(nilai)\n",
        "print(array)\n",
        "array[0] = \"Mangga\"\n",
        "array.insert(3, \"Pisang\")\n",
        "array.remove(40)\n",
        "print(array)"
      ],
      "metadata": {
        "colab": {
          "base_uri": "https://localhost:8080/"
        },
        "id": "CvRclrqLIvSD",
        "outputId": "5605be80-7432-4cfa-8ae9-e09705db4f3f"
      },
      "execution_count": null,
      "outputs": [
        {
          "output_type": "stream",
          "name": "stdout",
          "text": [
            "[80, 30, 10]\n",
            "['Apel', 40, 30.6]\n",
            "['Mangga', 30.6, 'Pisang']\n"
          ]
        }
      ]
    },
    {
      "cell_type": "markdown",
      "source": [
        "Coba kalian menampilkan index 0 tok atau aja\n",
        "Coba kalian menampilkan index 0 : 1 aja\n"
      ],
      "metadata": {
        "id": "-_8I5u0lNdoc"
      }
    },
    {
      "cell_type": "code",
      "source": [
        "print(array)\n",
        "print(array[0])\n",
        "print(array[1])\n",
        "print(array[:2])"
      ],
      "metadata": {
        "colab": {
          "base_uri": "https://localhost:8080/"
        },
        "id": "1721nZRLNqFF",
        "outputId": "d981247e-e48c-46fc-bdd7-e8ed0e35a08d"
      },
      "execution_count": null,
      "outputs": [
        {
          "output_type": "stream",
          "name": "stdout",
          "text": [
            "['Mangga', 30.6, 'Pisang']\n",
            "Mangga\n",
            "30.6\n",
            "['Mangga', 30.6]\n"
          ]
        }
      ]
    }
  ]
}